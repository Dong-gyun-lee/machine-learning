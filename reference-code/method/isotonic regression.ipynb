{
 "cells": [
  {
   "cell_type": "markdown",
   "id": "79fbcfae",
   "metadata": {},
   "source": [
    "# Isotonic Regression"
   ]
  },
  {
   "cell_type": "markdown",
   "id": "71ee9618",
   "metadata": {},
   "source": [
    "### 1. 데이터 만들기"
   ]
  },
  {
   "cell_type": "code",
   "execution_count": 1,
   "id": "0fb15953",
   "metadata": {},
   "outputs": [],
   "source": [
    "import pandas as pd\n",
    "import numpy as np \n",
    "import torch "
   ]
  },
  {
   "cell_type": "code",
   "execution_count": 2,
   "id": "63beae32",
   "metadata": {},
   "outputs": [],
   "source": [
    "# 계수의 차원 :5 , 관측치개수 10000개\n",
    "p=5\n",
    "n=10000\n",
    "\n",
    "# x 관측치\n",
    "X_ = torch.normal(10,1,size=(n,p),dtype=torch.float64)\n",
    "X = torch.cat([torch.ones(n,1,dtype=torch.float64),X_],dim=1)\n",
    "\n",
    "# 추정해야 될 beta 생성\n",
    "real_beta = torch.tensor(range(p+1),dtype=torch.float64)\n",
    "\n",
    "# y = X*(Real Beta) + E 로 y를 생성해줌\n",
    "y = torch.mv(X,real_beta)+torch.randn(n,dtype=torch.float64)"
   ]
  },
  {
   "cell_type": "markdown",
   "id": "0d48d567",
   "metadata": {},
   "source": [
    "### 2. 함수 생성"
   ]
  },
  {
   "cell_type": "markdown",
   "id": "4787427b",
   "metadata": {},
   "source": [
    "(1) $X$ matrix 를 다르게 변환할 $Z$ matrix, (2) $\\beta$ 를 $\\delta$ 로 재매개변수화 시켜줄 $A$ matrix, (3) $\\delta$ 를 만들어줄 함수 생성 <br>\n",
    "(4) Isotonic regression에서 lse를 minimize하는 $\\delta$ 를 찾고 $\\beta$ 를 구하는 함수 생성"
   ]
  },
  {
   "cell_type": "code",
   "execution_count": 3,
   "id": "7aaa2e39",
   "metadata": {},
   "outputs": [],
   "source": [
    "def Zmatrix(x,p):\n",
    "    value = torch.zeros(n,p+1,dtype = torch.float64)\n",
    "    value[:,0]=1\n",
    "\n",
    "    for i in range(p):\n",
    "        value[:,(i+1)] = torch.sum(x[:,i+1:p+1],1)\n",
    "    return value\n",
    "\n",
    "def Amatrix(p):\n",
    "    value = torch.zeros(p+1,p+1,dtype=torch.float64)\n",
    "    value[0,0]=1\n",
    "    value[1,1]=1\n",
    "    \n",
    "    for i in range(p-1):\n",
    "        value[i+2][i+1] = -1.\n",
    "        value[i+2][i+2] = 1.\n",
    "    return value\n",
    "    \n",
    "def delta(b,p):\n",
    "    value = torch.mv(Amatrix(p),b)\n",
    "    return value"
   ]
  },
  {
   "cell_type": "code",
   "execution_count": 4,
   "id": "ca3cba69",
   "metadata": {},
   "outputs": [],
   "source": [
    "def Isotonic(X,y,mu,e,t,d,p):\n",
    "    #Z matrix, delta 초기치 생성 \n",
    "    A = Amatrix(p)\n",
    "    Z = Zmatrix(X,p)\n",
    "    # delta 초기치\n",
    "    d = delta(beta,p)\n",
    "    ##  Centering step\n",
    "    for i in range(10000):\n",
    "        # diag matrix들 생성 \n",
    "        dr2 = torch.diag(1/(d**2))\n",
    "        dr2[0:2,:]=0\n",
    "        dr1 = torch.diag(1/d)\n",
    "        dr1[0:2,:]=0\n",
    "        # KKT 조건에 의해 nu에 대한 해 계산\n",
    "        nu1 = torch.inverse(2*t*torch.mm(Z.T,Z) + dr2) \n",
    "        nu2 = 2*t*torch.mv(Z.T,y) - 2*t*torch.mv(torch.mm(Z.T,Z),d) + torch.mv(dr1,torch.ones(p+1,dtype=torch.float64))\n",
    "        nu = torch.mv(nu1,nu2)\n",
    "        # delta update\n",
    "        d = d + nu\n",
    "        # stopping criterion\n",
    "        if ((p-1)/t)<e:\n",
    "            break\n",
    "        t = mu*t\n",
    "        # beta 생성\n",
    "    beta_new = torch.mv(torch.inverse(A),d)\n",
    "    return beta_new"
   ]
  },
  {
   "cell_type": "markdown",
   "id": "25618d9e",
   "metadata": {},
   "source": [
    "### 3.초기치 생성, 값 출력"
   ]
  },
  {
   "cell_type": "code",
   "execution_count": 5,
   "id": "08dc8ed4",
   "metadata": {},
   "outputs": [],
   "source": [
    "e = 0.000001\n",
    "mu = 1.1\n",
    "t = 0.1\n",
    "beta = torch.abs(torch.randn(p+1,dtype=torch.float64))\n",
    "beta,_=torch.sort(beta)\n",
    "beta.requires_grad=True"
   ]
  },
  {
   "cell_type": "code",
   "execution_count": 6,
   "id": "03c39af4",
   "metadata": {},
   "outputs": [
    {
     "name": "stdout",
     "output_type": "stream",
     "text": [
      "tensor([0.0795, 0.1473, 0.3992, 1.0460, 1.1357, 1.4807], dtype=torch.float64,\n",
      "       requires_grad=True)\n"
     ]
    }
   ],
   "source": [
    "# beta 초기치\n",
    "print(beta)"
   ]
  },
  {
   "cell_type": "code",
   "execution_count": 7,
   "id": "1460436a",
   "metadata": {},
   "outputs": [
    {
     "data": {
      "text/plain": [
       "tensor([0.0162, 1.0144, 2.0049, 2.9864, 4.0014, 4.9903], dtype=torch.float64,\n",
       "       grad_fn=<MvBackward0>)"
      ]
     },
     "execution_count": 7,
     "metadata": {},
     "output_type": "execute_result"
    }
   ],
   "source": [
    "Isotonic(X,y,mu,e,t,beta,p)"
   ]
  },
  {
   "cell_type": "code",
   "execution_count": 8,
   "id": "dbab8300",
   "metadata": {},
   "outputs": [
    {
     "name": "stdout",
     "output_type": "stream",
     "text": [
      "tensor([0., 1., 2., 3., 4., 5.], dtype=torch.float64)\n"
     ]
    }
   ],
   "source": [
    "print(real_beta)"
   ]
  },
  {
   "cell_type": "markdown",
   "id": "d60ee53a",
   "metadata": {},
   "source": [
    "- 최적화를 통해 구한 계수들이 추정할 beta 값에 근접한 값을 가짐을 보여주고 있다."
   ]
  }
 ],
 "metadata": {
  "kernelspec": {
   "display_name": "Python 3 (ipykernel)",
   "language": "python",
   "name": "python3"
  },
  "language_info": {
   "codemirror_mode": {
    "name": "ipython",
    "version": 3
   },
   "file_extension": ".py",
   "mimetype": "text/x-python",
   "name": "python",
   "nbconvert_exporter": "python",
   "pygments_lexer": "ipython3",
   "version": "3.9.6"
  }
 },
 "nbformat": 4,
 "nbformat_minor": 5
}
